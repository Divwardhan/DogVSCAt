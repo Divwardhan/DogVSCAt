{
  "nbformat": 4,
  "nbformat_minor": 0,
  "metadata": {
    "colab": {
      "provenance": [],
      "gpuType": "T4"
    },
    "kernelspec": {
      "name": "python3",
      "display_name": "Python 3"
    },
    "accelerator": "GPU"
  },
  "cells": [
    {
      "cell_type": "markdown",
      "metadata": {
        "id": "3DR-eO17geWu"
      },
      "source": [
        "# Cats VS Dogs Classifier"
      ]
    },
    {
      "cell_type": "code",
      "source": [
        "!kaggle datasets download -d salader/dogs-vs-cats"
      ],
      "metadata": {
        "colab": {
          "base_uri": "https://localhost:8080/"
        },
        "id": "Ae5SS1CEToH_",
        "outputId": "bd4f7273-6ee5-43aa-f114-bcc48bbdd92e"
      },
      "execution_count": 2,
      "outputs": [
        {
          "output_type": "stream",
          "name": "stdout",
          "text": [
            "Dataset URL: https://www.kaggle.com/datasets/salader/dogs-vs-cats\n",
            "License(s): unknown\n",
            "Downloading dogs-vs-cats.zip to /content\n",
            " 99% 1.05G/1.06G [00:04<00:00, 248MB/s]\n",
            "100% 1.06G/1.06G [00:04<00:00, 248MB/s]\n"
          ]
        }
      ]
    },
    {
      "cell_type": "markdown",
      "metadata": {
        "id": "EMefrVPCg-60"
      },
      "source": [
        "### Importing the libraries"
      ]
    },
    {
      "cell_type": "code",
      "metadata": {
        "id": "sCV30xyVhFbE"
      },
      "source": [
        "import tensorflow as tf\n",
        "from keras.preprocessing.image import ImageDataGenerator"
      ],
      "execution_count": 3,
      "outputs": []
    },
    {
      "cell_type": "code",
      "metadata": {
        "id": "FIleuCAjoFD8",
        "colab": {
          "base_uri": "https://localhost:8080/",
          "height": 36
        },
        "outputId": "532f922b-cc81-41a5-940a-2b3a8efe8eb0"
      },
      "source": [
        "tf.__version__"
      ],
      "execution_count": 4,
      "outputs": [
        {
          "output_type": "execute_result",
          "data": {
            "text/plain": [
              "'2.15.0'"
            ],
            "application/vnd.google.colaboratory.intrinsic+json": {
              "type": "string"
            }
          },
          "metadata": {},
          "execution_count": 4
        }
      ]
    },
    {
      "cell_type": "markdown",
      "metadata": {
        "id": "oxQxCBWyoGPE"
      },
      "source": [
        "## Data Preprocessing"
      ]
    },
    {
      "cell_type": "code",
      "source": [
        "import zipfile\n",
        "zip_ref = zipfile.ZipFile('/content/dogs-vs-cats.zip', 'r')\n",
        "zip_ref.extractall('/content')\n",
        "zip_ref.close()"
      ],
      "metadata": {
        "id": "fb3vTewPT2Fv"
      },
      "execution_count": 5,
      "outputs": []
    },
    {
      "cell_type": "code",
      "metadata": {
        "id": "0koUcJMJpEBD",
        "colab": {
          "base_uri": "https://localhost:8080/"
        },
        "outputId": "232b9cbb-8874-4baf-870b-79f23c09cb56"
      },
      "source": [
        "train_datagen = ImageDataGenerator(rescale = 1./255,\n",
        "                                   shear_range = 0.2,\n",
        "                                   zoom_range = 0.2,\n",
        "                                   horizontal_flip = True)\n",
        "training_set = train_datagen.flow_from_directory('train',\n",
        "                                                 target_size = (64, 64),\n",
        "                                                 batch_size = 32,\n",
        "                                                 class_mode = 'binary')"
      ],
      "execution_count": 6,
      "outputs": [
        {
          "output_type": "stream",
          "name": "stdout",
          "text": [
            "Found 20000 images belonging to 2 classes.\n"
          ]
        }
      ]
    },
    {
      "cell_type": "code",
      "metadata": {
        "id": "SH4WzfOhpKc3",
        "colab": {
          "base_uri": "https://localhost:8080/"
        },
        "outputId": "261a701e-3285-4563-d4a5-3ba25cc84c9b"
      },
      "source": [
        "test_datagen = ImageDataGenerator(rescale = 1./255)\n",
        "test_set = test_datagen.flow_from_directory('test',\n",
        "                                            target_size = (64, 64),\n",
        "                                            batch_size = 32,\n",
        "                                            class_mode = 'binary')"
      ],
      "execution_count": 7,
      "outputs": [
        {
          "output_type": "stream",
          "name": "stdout",
          "text": [
            "Found 5000 images belonging to 2 classes.\n"
          ]
        }
      ]
    },
    {
      "cell_type": "markdown",
      "metadata": {
        "id": "af8O4l90gk7B"
      },
      "source": [
        "## Building the CNN"
      ]
    },
    {
      "cell_type": "markdown",
      "metadata": {
        "id": "ces1gXY2lmoX"
      },
      "source": [
        "### Initialising the CNN"
      ]
    },
    {
      "cell_type": "code",
      "metadata": {
        "id": "SAUt4UMPlhLS"
      },
      "source": [
        "cnn = tf.keras.models.Sequential()"
      ],
      "execution_count": 8,
      "outputs": []
    },
    {
      "cell_type": "markdown",
      "metadata": {
        "id": "u5YJj_XMl5LF"
      },
      "source": [
        "### Convolution"
      ]
    },
    {
      "cell_type": "code",
      "metadata": {
        "id": "XPzPrMckl-hV"
      },
      "source": [
        "cnn.add(tf.keras.layers.Conv2D(filters=32, kernel_size=3, activation='relu', input_shape=[64, 64, 3]))"
      ],
      "execution_count": 9,
      "outputs": []
    },
    {
      "cell_type": "markdown",
      "metadata": {
        "id": "tf87FpvxmNOJ"
      },
      "source": [
        "### Pooling"
      ]
    },
    {
      "cell_type": "code",
      "metadata": {
        "id": "ncpqPl69mOac"
      },
      "source": [
        "cnn.add(tf.keras.layers.MaxPool2D(pool_size=2, strides=2))"
      ],
      "execution_count": 10,
      "outputs": []
    },
    {
      "cell_type": "markdown",
      "metadata": {
        "id": "xaTOgD8rm4mU"
      },
      "source": [
        "### Second convolutional layer"
      ]
    },
    {
      "cell_type": "code",
      "metadata": {
        "id": "i_-FZjn_m8gk"
      },
      "source": [
        "cnn.add(tf.keras.layers.Conv2D(filters=32, kernel_size=3, activation='relu'))\n",
        "cnn.add(tf.keras.layers.MaxPool2D(pool_size=2, strides=2))"
      ],
      "execution_count": 11,
      "outputs": []
    },
    {
      "cell_type": "markdown",
      "metadata": {
        "id": "tmiEuvTunKfk"
      },
      "source": [
        "### Flattening"
      ]
    },
    {
      "cell_type": "code",
      "metadata": {
        "id": "6AZeOGCvnNZn"
      },
      "source": [
        "cnn.add(tf.keras.layers.Flatten())"
      ],
      "execution_count": 12,
      "outputs": []
    },
    {
      "cell_type": "markdown",
      "metadata": {
        "id": "dAoSECOm203v"
      },
      "source": [
        "### Full Connection"
      ]
    },
    {
      "cell_type": "code",
      "metadata": {
        "id": "8GtmUlLd26Nq"
      },
      "source": [
        "cnn.add(tf.keras.layers.Dense(units=128, activation='relu'))"
      ],
      "execution_count": 13,
      "outputs": []
    },
    {
      "cell_type": "markdown",
      "metadata": {
        "id": "yTldFvbX28Na"
      },
      "source": [
        "### Output Layer"
      ]
    },
    {
      "cell_type": "code",
      "metadata": {
        "id": "1p_Zj1Mc3Ko_"
      },
      "source": [
        "cnn.add(tf.keras.layers.Dense(units=1, activation='sigmoid'))"
      ],
      "execution_count": 14,
      "outputs": []
    },
    {
      "cell_type": "markdown",
      "metadata": {
        "id": "D6XkI90snSDl"
      },
      "source": [
        "## Training the CNN"
      ]
    },
    {
      "cell_type": "code",
      "metadata": {
        "id": "NALksrNQpUlJ"
      },
      "source": [
        "cnn.compile(optimizer = 'adam', loss = 'binary_crossentropy', metrics = ['accuracy'])"
      ],
      "execution_count": 15,
      "outputs": []
    },
    {
      "cell_type": "code",
      "metadata": {
        "id": "XUj1W4PJptta",
        "colab": {
          "base_uri": "https://localhost:8080/"
        },
        "outputId": "5061fa5d-c293-488f-81ca-8a6b1c3b14ff"
      },
      "source": [
        "cnn.fit(x = training_set, validation_data = test_set, epochs = 25)"
      ],
      "execution_count": 16,
      "outputs": [
        {
          "output_type": "stream",
          "name": "stdout",
          "text": [
            "Epoch 1/25\n",
            "625/625 [==============================] - 62s 92ms/step - loss: 0.6315 - accuracy: 0.6313 - val_loss: 0.5482 - val_accuracy: 0.7294\n",
            "Epoch 2/25\n",
            "625/625 [==============================] - 59s 94ms/step - loss: 0.5382 - accuracy: 0.7281 - val_loss: 0.5053 - val_accuracy: 0.7614\n",
            "Epoch 3/25\n",
            "625/625 [==============================] - 55s 88ms/step - loss: 0.4933 - accuracy: 0.7606 - val_loss: 0.4653 - val_accuracy: 0.7804\n",
            "Epoch 4/25\n",
            "625/625 [==============================] - 57s 91ms/step - loss: 0.4585 - accuracy: 0.7847 - val_loss: 0.4216 - val_accuracy: 0.8054\n",
            "Epoch 5/25\n",
            "625/625 [==============================] - 55s 88ms/step - loss: 0.4409 - accuracy: 0.7955 - val_loss: 0.4265 - val_accuracy: 0.8040\n",
            "Epoch 6/25\n",
            "625/625 [==============================] - 55s 88ms/step - loss: 0.4204 - accuracy: 0.8066 - val_loss: 0.4726 - val_accuracy: 0.7774\n",
            "Epoch 7/25\n",
            "625/625 [==============================] - 60s 97ms/step - loss: 0.4038 - accuracy: 0.8163 - val_loss: 0.4070 - val_accuracy: 0.8186\n",
            "Epoch 8/25\n",
            "625/625 [==============================] - 54s 87ms/step - loss: 0.3941 - accuracy: 0.8175 - val_loss: 0.3815 - val_accuracy: 0.8288\n",
            "Epoch 9/25\n",
            "625/625 [==============================] - 55s 88ms/step - loss: 0.3736 - accuracy: 0.8313 - val_loss: 0.4244 - val_accuracy: 0.8120\n",
            "Epoch 10/25\n",
            "625/625 [==============================] - 54s 87ms/step - loss: 0.3592 - accuracy: 0.8393 - val_loss: 0.4191 - val_accuracy: 0.8168\n",
            "Epoch 11/25\n",
            "625/625 [==============================] - 55s 88ms/step - loss: 0.3496 - accuracy: 0.8442 - val_loss: 0.3906 - val_accuracy: 0.8248\n",
            "Epoch 12/25\n",
            "625/625 [==============================] - 60s 96ms/step - loss: 0.3370 - accuracy: 0.8493 - val_loss: 0.4095 - val_accuracy: 0.8168\n",
            "Epoch 13/25\n",
            "625/625 [==============================] - 55s 88ms/step - loss: 0.3265 - accuracy: 0.8560 - val_loss: 0.3751 - val_accuracy: 0.8384\n",
            "Epoch 14/25\n",
            "625/625 [==============================] - 55s 87ms/step - loss: 0.3083 - accuracy: 0.8674 - val_loss: 0.4999 - val_accuracy: 0.7846\n",
            "Epoch 15/25\n",
            "625/625 [==============================] - 57s 91ms/step - loss: 0.3037 - accuracy: 0.8663 - val_loss: 0.3882 - val_accuracy: 0.8370\n",
            "Epoch 16/25\n",
            "625/625 [==============================] - 55s 88ms/step - loss: 0.2923 - accuracy: 0.8752 - val_loss: 0.3994 - val_accuracy: 0.8346\n",
            "Epoch 17/25\n",
            "625/625 [==============================] - 57s 91ms/step - loss: 0.2857 - accuracy: 0.8765 - val_loss: 0.3888 - val_accuracy: 0.8346\n",
            "Epoch 18/25\n",
            "625/625 [==============================] - 58s 93ms/step - loss: 0.2760 - accuracy: 0.8813 - val_loss: 0.3863 - val_accuracy: 0.8322\n",
            "Epoch 19/25\n",
            "625/625 [==============================] - 54s 87ms/step - loss: 0.2577 - accuracy: 0.8902 - val_loss: 0.4291 - val_accuracy: 0.8262\n",
            "Epoch 20/25\n",
            "625/625 [==============================] - 57s 91ms/step - loss: 0.2515 - accuracy: 0.8931 - val_loss: 0.4334 - val_accuracy: 0.8344\n",
            "Epoch 21/25\n",
            "625/625 [==============================] - 55s 87ms/step - loss: 0.2420 - accuracy: 0.8993 - val_loss: 0.4241 - val_accuracy: 0.8318\n",
            "Epoch 22/25\n",
            "625/625 [==============================] - 55s 88ms/step - loss: 0.2359 - accuracy: 0.9016 - val_loss: 0.4440 - val_accuracy: 0.8292\n",
            "Epoch 23/25\n",
            "625/625 [==============================] - 56s 90ms/step - loss: 0.2285 - accuracy: 0.9058 - val_loss: 0.4548 - val_accuracy: 0.8266\n",
            "Epoch 24/25\n",
            "625/625 [==============================] - 58s 93ms/step - loss: 0.2158 - accuracy: 0.9125 - val_loss: 0.4436 - val_accuracy: 0.8316\n",
            "Epoch 25/25\n",
            "625/625 [==============================] - 59s 95ms/step - loss: 0.2111 - accuracy: 0.9134 - val_loss: 0.4632 - val_accuracy: 0.8312\n"
          ]
        },
        {
          "output_type": "execute_result",
          "data": {
            "text/plain": [
              "<keras.src.callbacks.History at 0x7e392c0eae30>"
            ]
          },
          "metadata": {},
          "execution_count": 16
        }
      ]
    },
    {
      "cell_type": "markdown",
      "metadata": {
        "id": "U3PZasO0006Z"
      },
      "source": [
        "## Making Prediction"
      ]
    },
    {
      "cell_type": "code",
      "metadata": {
        "id": "gsSiWEJY1BPB",
        "colab": {
          "base_uri": "https://localhost:8080/"
        },
        "outputId": "07b89bba-7bd0-4a8f-a202-ff3e05464945"
      },
      "source": [
        "import numpy as np\n",
        "from keras.preprocessing import image\n",
        "test_image = image.load_img('download.jpg', target_size = (64, 64))\n",
        "test_image = image.img_to_array(test_image)\n",
        "test_image = np.expand_dims(test_image, axis = 0)\n",
        "result = cnn.predict(test_image)\n",
        "training_set.class_indices\n",
        "if result[0][0] == 1:\n",
        "  prediction = 'dog'\n",
        "else:\n",
        "  prediction = 'cat'"
      ],
      "execution_count": 19,
      "outputs": [
        {
          "output_type": "stream",
          "name": "stdout",
          "text": [
            "1/1 [==============================] - 0s 215ms/step\n"
          ]
        }
      ]
    },
    {
      "cell_type": "code",
      "metadata": {
        "id": "ED9KB3I54c1i",
        "colab": {
          "base_uri": "https://localhost:8080/"
        },
        "outputId": "aab02196-0efd-45d6-959c-8b6da2f6a8d1"
      },
      "source": [
        "print(prediction)"
      ],
      "execution_count": 20,
      "outputs": [
        {
          "output_type": "stream",
          "name": "stdout",
          "text": [
            "dog\n"
          ]
        }
      ]
    }
  ]
}